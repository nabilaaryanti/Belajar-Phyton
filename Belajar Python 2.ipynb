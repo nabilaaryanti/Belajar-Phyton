{
 "cells": [
  {
   "cell_type": "code",
   "execution_count": 1,
   "metadata": {},
   "outputs": [
    {
     "name": "stdout",
     "output_type": "stream",
     "text": [
      "Nilai : 80\n",
      "A\n"
     ]
    }
   ],
   "source": [
    "# Nomor 1. Berikan skor yang sesuai!\n",
    "nilai= int(input(\"Nilai : \"))\n",
    "\n",
    "if (nilai >= 80):\n",
    "    print(\"A\")\n",
    "if (nilai >= 70) and (nilai < 80):\n",
    "    print(\"B\")\n",
    "if (nilai >= 60) and (nilai < 70):\n",
    "    print(\"C\")\n",
    "if (nilai >= 50) and (nilai < 60):\n",
    "    print(\"D\")\n",
    "if (nilai < 50):\n",
    "    print(\"E\")"
   ]
  },
  {
   "cell_type": "code",
   "execution_count": 55,
   "metadata": {},
   "outputs": [
    {
     "name": "stdout",
     "output_type": "stream",
     "text": [
      "Masukkan sisi pertama = 2\n",
      "Masukkan sisi kedua = 4\n",
      "Masukkan sisi ketiga =7\n",
      "\n",
      "\n",
      "Tidak membentuk segitiga siku-siku\n"
     ]
    }
   ],
   "source": [
    "# Nomor 2. Membentuk segitiga siku-siku atau tidak!\n",
    "def segitigasiku2(sisi1, sisi2, sisi3):\n",
    "    a = sisi1**2\n",
    "    b = sisi2**2\n",
    "    c = sisi3**2\n",
    "    print(\"\\n\")\n",
    "    if max(a,b,c)==(a + b + c - max(a,b,c)):\n",
    "        print(\"Membentuk segitiga siku-siku\")\n",
    "    else:\n",
    "        print(\"Tidak membentuk segitiga siku-siku\")\n",
    "\n",
    "sisi1 = int(input(\"Masukkan sisi pertama = \"))\n",
    "sisi2 = int(input(\"Masukkan sisi kedua = \"))\n",
    "sisi3 = int(input(\"Masukkan sisi ketiga =\")) \n",
    "segitigasiku2(sisi1, sisi2, sisi3)"
   ]
  },
  {
   "cell_type": "code",
   "execution_count": 54,
   "metadata": {},
   "outputs": [
    {
     "name": "stdout",
     "output_type": "stream",
     "text": [
      "Masukkan sebuah Karakter :a\n",
      "\n",
      "\n",
      "Klasifikasi karakter :\n",
      "Huruf Kecil\n"
     ]
    }
   ],
   "source": [
    "# Nomor 3. Klasifikasi jenis karakter\n",
    "krt = str(input(\"Masukkan sebuah Karakter :\"))\n",
    "\n",
    "print(\"\\n\")\n",
    "print(\"Klasifikasi karakter :\")\n",
    "if krt.islower():\n",
    "    print(\"Huruf Kecil\")\n",
    "elif krt.isupper():\n",
    "    print(\"Huruf Besar\")\n",
    "elif krt.isnumeric():\n",
    "    print(\"Angka\")\n",
    "else:\n",
    "    print(\"Bukan huruf ataupun angka\")"
   ]
  },
  {
   "cell_type": "code",
   "execution_count": 12,
   "metadata": {},
   "outputs": [
    {
     "name": "stdout",
     "output_type": "stream",
     "text": [
      "Masukan nilai n : 4\n",
      "= = = = = = = = \n",
      "= = = = = = = = \n",
      "= = = = = = = = \n",
      "= = = = = = = = \n"
     ]
    }
   ],
   "source": [
    "# Nomor 4. Membuat kotak dari simbol \"=\"\n",
    "n = int(input(\"Masukan nilai n : \"))\n",
    "n_2 = 2*n\n",
    "\n",
    "for i in range(n):\n",
    "    for j in range(n_2):\n",
    "        print(\"=\", end =\" \")\n",
    "    print()"
   ]
  },
  {
   "cell_type": "code",
   "execution_count": 15,
   "metadata": {},
   "outputs": [
    {
     "name": "stdout",
     "output_type": "stream",
     "text": [
      "Masukkan n :15\n",
      "15 17 19 21 23 25 27 29 31 33 35 37 39 41 43 "
     ]
    }
   ],
   "source": [
    "# Nomor 5. Mengeluarkan n suku pertama\n",
    "n = int(input(\"Masukkan n :\"))\n",
    "start = n\n",
    "end = n*3\n",
    "  \n",
    "for ganjil in range(start, end):\n",
    "    if ganjil % 2 != 0:\n",
    "        print(ganjil, end = \" \")"
   ]
  },
  {
   "cell_type": "code",
   "execution_count": 8,
   "metadata": {},
   "outputs": [
    {
     "name": "stdout",
     "output_type": "stream",
     "text": [
      "Masukkan Beberapa Angka :5756745653410\n",
      "Banyaknya digit bilangan : 13\n"
     ]
    }
   ],
   "source": [
    "# Nomor 6. Banyaknya digit bilangan bulat\n",
    "angka = int(input(\"Masukkan Beberapa Angka :\"))\n",
    "\n",
    "jumlah_angka = len(str(abs(angka)))\n",
    "print(\"Banyaknya digit bilangan : \" + str(jumlah_angka))"
   ]
  }
 ],
 "metadata": {
  "kernelspec": {
   "display_name": "Python 3",
   "language": "python",
   "name": "python3"
  },
  "language_info": {
   "codemirror_mode": {
    "name": "ipython",
    "version": 3
   },
   "file_extension": ".py",
   "mimetype": "text/x-python",
   "name": "python",
   "nbconvert_exporter": "python",
   "pygments_lexer": "ipython3",
   "version": "3.7.6"
  }
 },
 "nbformat": 4,
 "nbformat_minor": 4
}
