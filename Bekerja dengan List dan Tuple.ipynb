{
 "cells": [
  {
   "cell_type": "code",
   "execution_count": 4,
   "metadata": {},
   "outputs": [
    {
     "name": "stdout",
     "output_type": "stream",
     "text": [
      "toyota\n",
      "honda\n",
      "BMW\n",
      "hyundai\n"
     ]
    }
   ],
   "source": [
    "mobil = ['toyota', 'honda', 'BMW', 'hyundai']    # (1) \n",
    "for i in mobil:                                  # (2)    \n",
    "    print(i) "
   ]
  },
  {
   "cell_type": "code",
   "execution_count": 5,
   "metadata": {},
   "outputs": [
    {
     "name": "stdout",
     "output_type": "stream",
     "text": [
      "Pembelian ke 1 yaitu Toyota\n",
      "Pembelian ke 2 yaitu Honda\n",
      "Pembelian ke 3 yaitu Bmw\n",
      "Pembelian ke 4 yaitu Hyundai\n"
     ]
    }
   ],
   "source": [
    "angka = 1 \n",
    "for i in mobil:    \n",
    "    print(\"Pembelian ke \" + str(angka) + \" yaitu \" + i.title())\n",
    "    angka += 1 # artinya sama dengan angka = angka + 1"
   ]
  },
  {
   "cell_type": "code",
   "execution_count": 6,
   "metadata": {},
   "outputs": [
    {
     "name": "stdout",
     "output_type": "stream",
     "text": [
      "Pembelian ke 1 yaitu Toyota\n",
      "Pembelian ke 1 yaitu Honda\n",
      "Pembelian ke 1 yaitu Bmw\n",
      "Pembelian ke 1 yaitu Hyundai\n"
     ]
    }
   ],
   "source": [
    "angka = 1 \n",
    "for i in mobil:    \n",
    "    print(\"Pembelian ke \" + str(angka) + \" yaitu \" + i.title())\n",
    "angka += 1 # artinya sama dengan angka = angka + 1"
   ]
  },
  {
   "cell_type": "code",
   "execution_count": null,
   "metadata": {},
   "outputs": [],
   "source": []
  }
 ],
 "metadata": {
  "kernelspec": {
   "display_name": "Python 3",
   "language": "python",
   "name": "python3"
  },
  "language_info": {
   "codemirror_mode": {
    "name": "ipython",
    "version": 3
   },
   "file_extension": ".py",
   "mimetype": "text/x-python",
   "name": "python",
   "nbconvert_exporter": "python",
   "pygments_lexer": "ipython3",
   "version": "3.7.6"
  }
 },
 "nbformat": 4,
 "nbformat_minor": 4
}
