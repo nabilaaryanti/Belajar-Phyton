{
 "cells": [
  {
   "cell_type": "markdown",
   "metadata": {},
   "source": [
    "## OpenCv"
   ]
  },
  {
   "cell_type": "code",
   "execution_count": 1,
   "metadata": {},
   "outputs": [],
   "source": [
    "import cv2"
   ]
  },
  {
   "cell_type": "code",
   "execution_count": 2,
   "metadata": {},
   "outputs": [],
   "source": [
    "# Membaca gambar\n",
    "cv_img = cv2.imread ('karyawan.jpg')"
   ]
  },
  {
   "cell_type": "code",
   "execution_count": null,
   "metadata": {},
   "outputs": [],
   "source": [
    "# Menampilkan gambar\n",
    "cv2.imshow('image',cv_img) \n",
    "cv2.waitKey(0)\n",
    "cv2.destroyAllWindows()"
   ]
  },
  {
   "cell_type": "markdown",
   "metadata": {},
   "source": [
    "- **CV2.waitKey()** adalah fungsi mengikat keyboard. Argumen adalah waktu dalam milidetik. Fungsi menunggu ditentukan milidetik untuk sembarang tombol keyboard. Jika Anda menekan sembarang tombol pada waktu itu, program ini terus berjalan. Jika 0 berlalu,maka dia akan berhenti.\n",
    "- **CV2.destroyAllWindows()** digunakan untuk menutup semua jendela yang kita buat. Jika Anda ingin menutup setiap jendela khusus, menggunakan fungsi cv2.destroyWindow() dengan menentukan jendela mana yang akan di tutup."
   ]
  },
  {
   "cell_type": "code",
   "execution_count": null,
   "metadata": {},
   "outputs": [],
   "source": [
    "# Misal mau ubah ukuran gambar (run ini dulu baru baru tampilin gambarnya)\n",
    "screen_res = 300, 500\n",
    "scale_width = screen_res[0] / cv_img.shape[1]\n",
    "scale_height = screen_res[1] / cv_img.shape[0]\n",
    "scale = min(scale_width, scale_height)\n",
    "\n",
    "window_width = int(cv_img.shape[1] * scale)\n",
    "window_height = int(cv_img.shape[0] * scale)\n",
    "\n",
    "cv2.namedWindow('image', cv2.WINDOW_NORMAL)\n",
    "cv2.resizeWindow('image', window_width, window_height)\n",
    "\n",
    "cv2.imshow('iamge',cv_img) \n",
    "cv2.waitKey(0)\n",
    "cv2.destroyAllWindows()"
   ]
  },
  {
   "cell_type": "code",
   "execution_count": null,
   "metadata": {},
   "outputs": [],
   "source": [
    "# Save sebuah gambar\n",
    "cv2.imwrite('orangkantor.png',cv_img)"
   ]
  },
  {
   "cell_type": "code",
   "execution_count": null,
   "metadata": {},
   "outputs": [],
   "source": []
  },
  {
   "cell_type": "markdown",
   "metadata": {},
   "source": [
    "## Pillow "
   ]
  },
  {
   "cell_type": "code",
   "execution_count": null,
   "metadata": {},
   "outputs": [],
   "source": [
    "from PIL import Image"
   ]
  },
  {
   "cell_type": "code",
   "execution_count": null,
   "metadata": {},
   "outputs": [],
   "source": [
    "# Membaca gambar\n",
    "pil_img = Image.open(\"orangkantor.png\")"
   ]
  },
  {
   "cell_type": "code",
   "execution_count": null,
   "metadata": {},
   "outputs": [],
   "source": [
    "# Nampilin gambar\n",
    "pil_img.show()"
   ]
  },
  {
   "cell_type": "code",
   "execution_count": null,
   "metadata": {},
   "outputs": [],
   "source": [
    "# cek nama gambar\n",
    "pil_img.filename"
   ]
  },
  {
   "cell_type": "code",
   "execution_count": null,
   "metadata": {},
   "outputs": [],
   "source": [
    "# liat ukuran gambar\n",
    "pil_img.size"
   ]
  },
  {
   "cell_type": "code",
   "execution_count": null,
   "metadata": {},
   "outputs": [],
   "source": [
    "# motong (crop) gambar\n",
    "crop_img = pil_img.crop((340, 20, 560, 230))\n",
    "crop_img.show()"
   ]
  },
  {
   "cell_type": "code",
   "execution_count": null,
   "metadata": {},
   "outputs": [],
   "source": [
    "# flip\n",
    "flipped = pil_img.transpose(Image.FLIP_LEFT_RIGHT)\n",
    "flipped.show()"
   ]
  },
  {
   "cell_type": "code",
   "execution_count": null,
   "metadata": {},
   "outputs": [],
   "source": [
    "# save gambar\n",
    "crop_img.save('cropped.jpg')"
   ]
  },
  {
   "cell_type": "code",
   "execution_count": null,
   "metadata": {},
   "outputs": [],
   "source": []
  }
 ],
 "metadata": {
  "kernelspec": {
   "display_name": "Python 3",
   "language": "python",
   "name": "python3"
  },
  "language_info": {
   "codemirror_mode": {
    "name": "ipython",
    "version": 3
   },
   "file_extension": ".py",
   "mimetype": "text/x-python",
   "name": "python",
   "nbconvert_exporter": "python",
   "pygments_lexer": "ipython3",
   "version": "3.7.6"
  }
 },
 "nbformat": 4,
 "nbformat_minor": 4
}
