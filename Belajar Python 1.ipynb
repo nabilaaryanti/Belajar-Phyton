{
 "cells": [
  {
   "cell_type": "code",
   "execution_count": 7,
   "metadata": {},
   "outputs": [
    {
     "name": "stdout",
     "output_type": "stream",
     "text": [
      "Banyaknya total bilangan:\n",
      "6\n",
      "total bilangan dalam list :\n",
      "16\n",
      "\n",
      "\n",
      "Flatten list :\n",
      "[1, 2, 3, 4, 5, 6, 7, 8, 2, 4, 1, 7, 8, 7, 9, 10]\n"
     ]
    }
   ],
   "source": [
    "#No.1\n",
    "number = [[1,2,3,4], [5,6,7,8],[2,4,1,7], [8,7], [9], [10]]\n",
    "\n",
    "# a. menghitung banyaknya total bil unik\n",
    "print(\"Banyaknya total bilangan:\")\n",
    "print(len(number))\n",
    "\n",
    "print(\"total bilangan dalam list :\")\n",
    "print(len(number[0]+number[1]+number[2]+number[3]+number[4]+number[5]))\n",
    "\n",
    "print('\\n')\n",
    "# b. membuat flatten list\n",
    "flatten_list = sum(number,[])\n",
    "\n",
    "print(\"Flatten list :\")\n",
    "print(flatten_list)"
   ]
  },
  {
   "cell_type": "code",
   "execution_count": 2,
   "metadata": {},
   "outputs": [
    {
     "name": "stdout",
     "output_type": "stream",
     "text": [
      "Banyaknya mahasiswa:\n",
      "8\n",
      "\n",
      "\n",
      "Nama mahasiswa:\n",
      "['irvan', 'aji', 'rabu', 'lukman', 'riga', 'sarah', 'irvan', 'aji']\n"
     ]
    }
   ],
   "source": [
    "#No. 2\n",
    "mahasiswa = [{\"key\": \"basis data\", \"nama mahasiswa\": ['irvan', 'aji', 'rabu', 'lukman']}, \n",
    "             {\"key\": \"kalkulus\", \"nama mahasiswa\": ['riga', 'sarah', 'irvan', 'aji']}]\n",
    "\n",
    "# a. mengitung banyaknya unik mahasiswa\n",
    "jumlah_mhs = mahasiswa[0][\"nama mahasiswa\"] + mahasiswa[1][\"nama mahasiswa\"]\n",
    "print(\"Banyaknya mahasiswa:\")\n",
    "print(len(jumlah_mhs))\n",
    "\n",
    "# b. mendapatkan nama mahasiwa yang mengikuti kedua mata kuliah tersebut\n",
    "mhs1 = mahasiswa[0][\"nama mahasiswa\"]\n",
    "mhs2 = mahasiswa[1][\"nama mahasiswa\"]\n",
    "\n",
    "print(\"\\n\")\n",
    "print(\"Nama mahasiswa:\")\n",
    "print(mhs1+mhs2)"
   ]
  },
  {
   "cell_type": "code",
   "execution_count": 12,
   "metadata": {},
   "outputs": [
    {
     "name": "stdout",
     "output_type": "stream",
     "text": [
      "Masukkan bilangan pertama = 200\n",
      "Masukkan bilangan kedua = 254\n",
      "Masukkan bilangan ketiga = 125\n",
      "[200, 254, 125]\n",
      "\n",
      "\n",
      "Bilangan pertama adalah 254\n",
      "Bilangan kedua adalah 200\n",
      "Bilangan ketiga adalah 125\n",
      "\n",
      "\n",
      "Bilangan terkecil dari 254, 200 dan 125 adalah 125\n",
      "[254, 200, 125]\n"
     ]
    }
   ],
   "source": [
    "#No. 3\n",
    "bilangan = []\n",
    "bil1 = int(input(\"Masukkan bilangan pertama = \"))\n",
    "bil2 = int(input(\"Masukkan bilangan kedua = \"))\n",
    "bil3 = int(input(\"Masukkan bilangan ketiga = \"))\n",
    "\n",
    "bilangan.append(bil1)\n",
    "bilangan.append(bil2)\n",
    "bilangan.append(bil3)\n",
    "print(bilangan)\n",
    "\n",
    "#urutkan bilangan\n",
    "bilangan.sort()\n",
    "bilangan.reverse()\n",
    "\n",
    "print(\"\\n\")\n",
    "#bilangan pertama\n",
    "x = bilangan[0]\n",
    "print(\"Bilangan pertama adalah \"+ str(x))\n",
    "\n",
    "#bilangan kedua\n",
    "y = bilangan[1]\n",
    "print(\"Bilangan kedua adalah \"+ str(y))\n",
    "\n",
    "#bilangan ketiga\n",
    "z = bilangan[2]\n",
    "print(\"Bilangan ketiga adalah \" + str(z))\n",
    "\n",
    "print(\"\\n\")\n",
    "print(\"Bilangan terkecil dari \" +str(x)+ \", \" +str(y)+ \" dan \" +str(z)+ \" adalah \" + str(z))\n",
    "print(bilangan)"
   ]
  },
  {
   "cell_type": "code",
   "execution_count": null,
   "metadata": {},
   "outputs": [],
   "source": [
    "#No. 4\n",
    "# dengan for\n",
    "for n in range(1000, 5000):\n",
    "    if n % 8 == 0:\n",
    "        print(n)"
   ]
  },
  {
   "cell_type": "code",
   "execution_count": null,
   "metadata": {},
   "outputs": [],
   "source": [
    "#dengan while\n",
    "a = 1000\n",
    "while a<=5000:\n",
    "    if a % 8 == 0:\n",
    "        print(a)\n",
    "        a = a+1"
   ]
  },
  {
   "cell_type": "code",
   "execution_count": 10,
   "metadata": {},
   "outputs": [
    {
     "name": "stdout",
     "output_type": "stream",
     "text": [
      "Input Tahun = 2000\n",
      "2000 adalah tahun kabisat\n"
     ]
    }
   ],
   "source": [
    "#No.5\n",
    "tahun = int(input(\"Input Tahun = \"))\n",
    "\n",
    "if (tahun % 4 == 0) and (tahun % 100 != 0) or (tahun %400 == 0):\n",
    "    print(str(tahun) + \" adalah tahun kabisat\")\n",
    "else:\n",
    "    print(str(tahun) + \" bukan tahun kabisat\")"
   ]
  },
  {
   "cell_type": "code",
   "execution_count": 11,
   "metadata": {},
   "outputs": [
    {
     "name": "stdout",
     "output_type": "stream",
     "text": [
      "Masukkan sebuah bilangan bulat = 15\n",
      "15 adalah bilangan Ganjil Positif\n"
     ]
    }
   ],
   "source": [
    "#No.6\n",
    "angka = int(input(\"Masukkan sebuah bilangan bulat = \"))\n",
    "\n",
    "if angka == 0:\n",
    "    print(str(angka) + \" bukan bilangan positif maupun negatif\")\n",
    "if angka < 0:\n",
    "    if angka % 2 == 0:\n",
    "        print(str(angka) + \" adalah bilangan Genap Negatif\")\n",
    "    else:\n",
    "        print(str(angka) + \" adalah bilangan Ganjil Negatif\")\n",
    "if angka > 0:\n",
    "    if angka % 2 == 0:\n",
    "        print(str(angka) + \" adalah bilangan Genap Positif\")\n",
    "    else:\n",
    "        print(str(angka) + \" adalah bilangan Ganjil Positif\")"
   ]
  },
  {
   "cell_type": "code",
   "execution_count": null,
   "metadata": {},
   "outputs": [],
   "source": []
  }
 ],
 "metadata": {
  "kernelspec": {
   "display_name": "Python 3",
   "language": "python",
   "name": "python3"
  },
  "language_info": {
   "codemirror_mode": {
    "name": "ipython",
    "version": 3
   },
   "file_extension": ".py",
   "mimetype": "text/x-python",
   "name": "python",
   "nbconvert_exporter": "python",
   "pygments_lexer": "ipython3",
   "version": "3.7.6"
  }
 },
 "nbformat": 4,
 "nbformat_minor": 4
}
